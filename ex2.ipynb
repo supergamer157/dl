{
  "nbformat": 4,
  "nbformat_minor": 0,
  "metadata": {
    "colab": {
      "provenance": []
    },
    "kernelspec": {
      "name": "python3",
      "display_name": "Python 3"
    },
    "language_info": {
      "name": "python"
    }
  },
  "cells": [
    {
      "cell_type": "markdown",
      "source": [
        "\n",
        "# **Synthetic dataset**"
      ],
      "metadata": {
        "id": "L4N3mgBW7fVb"
      }
    },
    {
      "cell_type": "markdown",
      "source": [
        "This function is used to generate synthetic classification datasets with specified characteristics, such as the number of samples, features, classes, and class distribution."
      ],
      "metadata": {
        "id": "dpWpwNHN6-fr"
      }
    },
    {
      "cell_type": "code",
      "source": [
        "from sklearn.datasets import make_classification"
      ],
      "metadata": {
        "id": "lJn_Ee3m61GU"
      },
      "execution_count": null,
      "outputs": []
    },
    {
      "cell_type": "markdown",
      "source": [
        "These lines import the pandas library and numpy library, which are commonly used for data manipulation and numerical computations, respectively"
      ],
      "metadata": {
        "id": "7yNvk6hg7UQm"
      }
    },
    {
      "cell_type": "code",
      "source": [
        "import pandas as pd\n",
        "import numpy as np"
      ],
      "metadata": {
        "id": "tgxmL5RR7McD"
      },
      "execution_count": null,
      "outputs": []
    },
    {
      "cell_type": "markdown",
      "source": [
        "The Counter class from the collections module is imported to help count occurrences of elements, often used for analyzing class distributions in classification tasks."
      ],
      "metadata": {
        "id": "zKIaxHZI8Sla"
      }
    },
    {
      "cell_type": "code",
      "source": [
        "from collections import Counter"
      ],
      "metadata": {
        "id": "1dY4hjR-8K4J"
      },
      "execution_count": null,
      "outputs": []
    },
    {
      "cell_type": "code",
      "source": [
        "# Visualization\n",
        "import matplotlib.pyplot as plt\n",
        "import seaborn as sns"
      ],
      "metadata": {
        "id": "NEbHNGaP89uW"
      },
      "execution_count": null,
      "outputs": []
    },
    {
      "cell_type": "code",
      "source": [
        "X, y = make_classification(n_samples=100000, n_features=32, n_informative=32,n_redundant=0, n_repeated=0, n_classes=2,\n",
        "                           n_clusters_per_class=1,\n",
        "                           weights=[0.995, 0.005],\n",
        "                           class_sep=0.5, random_state=0)\n"
      ],
      "metadata": {
        "id": "Q0jxRWXE4L6R"
      },
      "execution_count": null,
      "outputs": []
    },
    {
      "cell_type": "markdown",
      "source": [
        "**For example**, if y_train contains class labels [0, 0, 1, 1, 0, 1], Counter(y_train).items() would return something like [(0, 3), (1, 3)],\n",
        "indicating that class 0 appears 3 times and class 1 appears 3 times in y_train."
      ],
      "metadata": {
        "id": "vcnty4XxD-dS"
      }
    },
    {
      "cell_type": "code",
      "source": [
        "from sklearn.model_selection import train_test_split"
      ],
      "metadata": {
        "id": "WivJNkEKEpyo"
      },
      "execution_count": null,
      "outputs": []
    },
    {
      "cell_type": "code",
      "source": [
        "X_train, X_test, y_train, y_test = train_test_split(X, y, test_size=0.2, random_state=42)\n",
        "\n",
        "# Check the number of records\n",
        "print('The number of records in the training dataset is', X_train.shape[0])\n",
        "print('The number of records in the test dataset is', X_test.shape[0])\n",
        "print(f\"The training dataset has {sorted(Counter(y_train).items())[0][1]} records for the majority class and {sorted(Counter(y_train).items())[1][1]} records for the minority class.\")\n"
      ],
      "metadata": {
        "colab": {
          "base_uri": "https://localhost:8080/"
        },
        "id": "Yypj-prj4OZ_",
        "outputId": "09e2e696-4ed6-4149-c3ef-9fb4eac91b99"
      },
      "execution_count": null,
      "outputs": [
        {
          "output_type": "stream",
          "name": "stdout",
          "text": [
            "The number of records in the training dataset is 80000\n",
            "The number of records in the test dataset is 20000\n",
            "The training dataset has 79200 records for the majority class and 800 records for the minority class.\n"
          ]
        }
      ]
    },
    {
      "cell_type": "code",
      "source": [
        "X_train"
      ],
      "metadata": {
        "colab": {
          "base_uri": "https://localhost:8080/"
        },
        "id": "PNLeK3PLIsZm",
        "outputId": "cc40841f-742d-4a4d-bdfa-07dbbb0dd48c"
      },
      "execution_count": null,
      "outputs": [
        {
          "output_type": "execute_result",
          "data": {
            "text/plain": [
              "array([[-3.75949643e+00, -3.78605852e-01, -1.46362879e+00, ...,\n",
              "         2.70382420e+00,  1.78280865e+00,  2.63419776e-01],\n",
              "       [-6.32129714e+00, -2.28430570e+00, -5.14184296e-01, ...,\n",
              "        -3.08761234e+00, -2.13422351e-03,  3.06975030e+00],\n",
              "       [ 3.63680373e+00,  5.81323126e+00, -3.81501159e-01, ...,\n",
              "        -4.08324707e+00, -1.31913802e+00,  5.24207380e+00],\n",
              "       ...,\n",
              "       [ 2.11795713e+00, -6.87902640e+00, -1.34571204e+00, ...,\n",
              "         3.31142601e+00, -7.73686609e-02, -6.67414603e+00],\n",
              "       [-1.61331210e-01, -3.23563815e+00, -4.34442763e+00, ...,\n",
              "        -3.89822446e-01, -1.21105090e+00, -9.30390350e-02],\n",
              "       [ 2.21867298e-01, -1.21181512e+00, -3.19728190e+00, ...,\n",
              "         5.88137865e+00, -2.40009494e+00, -1.94711318e+00]])"
            ]
          },
          "metadata": {},
          "execution_count": 38
        }
      ]
    },
    {
      "cell_type": "code",
      "source": [
        "X_train.shape"
      ],
      "metadata": {
        "colab": {
          "base_uri": "https://localhost:8080/"
        },
        "id": "TGdQygHrI8YM",
        "outputId": "e45ac0f9-a55d-4c56-8ade-515f6be94102"
      },
      "execution_count": null,
      "outputs": [
        {
          "output_type": "execute_result",
          "data": {
            "text/plain": [
              "(80000, 32)"
            ]
          },
          "metadata": {},
          "execution_count": 40
        }
      ]
    },
    {
      "cell_type": "code",
      "source": [
        "import keras\n",
        "from keras.layers import Dense\n",
        "from keras.models import Sequential\n",
        "from sklearn.metrics import classification_report"
      ],
      "metadata": {
        "id": "_rFCy0leHE2Y"
      },
      "execution_count": null,
      "outputs": []
    },
    {
      "cell_type": "code",
      "source": [
        "# Keep only the normal data for the training dataset\n",
        "X_train_normal = X_train[np.where(y_train == 0)]\n",
        "\n",
        "# Input layer\n",
        "input = keras.layers.Input(shape=(32,))\n",
        "\n",
        "# Encoder layers\n",
        "encoder = Sequential([\n",
        "  Dense(16, activation='relu'),\n",
        "  Dense(8, activation='relu'),\n",
        "  Dense(4, activation='relu')])(input)\n",
        "\n",
        "# Decoder layers\n",
        "decoder = Sequential([\n",
        "      Dense(8, activation=\"relu\"),\n",
        "      Dense(16, activation=\"relu\"),\n",
        "      Dense(32, activation=\"sigmoid\")])(encoder)\n",
        "\n",
        "# Create the autoencoder\n",
        "autoencoder = keras.Model(inputs=input, outputs=decoder)\n"
      ],
      "metadata": {
        "id": "ROP9BpFY4RQ5"
      },
      "execution_count": null,
      "outputs": []
    },
    {
      "cell_type": "code",
      "source": [
        "autoencoder.summary()"
      ],
      "metadata": {
        "colab": {
          "base_uri": "https://localhost:8080/"
        },
        "id": "WFd4d9NeM6nZ",
        "outputId": "746c594c-cc4a-44ab-c876-20fb51e4acd9"
      },
      "execution_count": null,
      "outputs": [
        {
          "output_type": "stream",
          "name": "stdout",
          "text": [
            "Model: \"model_7\"\n",
            "_________________________________________________________________\n",
            " Layer (type)                Output Shape              Param #   \n",
            "=================================================================\n",
            " input_9 (InputLayer)        [(None, 32)]              0         \n",
            "                                                                 \n",
            " sequential_16 (Sequential)  (None, 4)                 700       \n",
            "                                                                 \n",
            " sequential_17 (Sequential)  (None, 32)                728       \n",
            "                                                                 \n",
            "=================================================================\n",
            "Total params: 1428 (5.58 KB)\n",
            "Trainable params: 1428 (5.58 KB)\n",
            "Non-trainable params: 0 (0.00 Byte)\n",
            "_________________________________________________________________\n"
          ]
        }
      ]
    },
    {
      "cell_type": "code",
      "source": [
        "# Compile the autoencoder\n",
        "autoencoder.compile(optimizer='adam', loss='mae')\n",
        "\n",
        "# Fit the autoencoder\n",
        "history = autoencoder.fit(X_train_normal, X_train_normal,\n",
        "          epochs=2,\n",
        "          batch_size=64,\n",
        "          validation_data=(X_test, X_test),\n",
        "          shuffle=True)\n"
      ],
      "metadata": {
        "colab": {
          "base_uri": "https://localhost:8080/"
        },
        "id": "iKMfjNZm4T4h",
        "outputId": "25753316-a804-4ee3-c245-4ac135ae3b3a"
      },
      "execution_count": null,
      "outputs": [
        {
          "output_type": "stream",
          "name": "stdout",
          "text": [
            "Epoch 1/2\n",
            "1238/1238 [==============================] - 4s 2ms/step - loss: 2.5534 - val_loss: 2.5298\n",
            "Epoch 2/2\n",
            "1238/1238 [==============================] - 3s 2ms/step - loss: 2.5227 - val_loss: 2.5233\n"
          ]
        }
      ]
    },
    {
      "cell_type": "code",
      "source": [
        "plt.plot(history.history[\"loss\"], label=\"Training Loss\")\n",
        "plt.plot(history.history[\"val_loss\"], label=\"Validation Loss\")\n",
        "plt.legend()\n"
      ],
      "metadata": {
        "colab": {
          "base_uri": "https://localhost:8080/",
          "height": 447
        },
        "id": "xsdCMVtc4WDg",
        "outputId": "2f1f1e6e-5063-4335-a212-934d276f2967"
      },
      "execution_count": null,
      "outputs": [
        {
          "output_type": "execute_result",
          "data": {
            "text/plain": [
              "<matplotlib.legend.Legend at 0x7a0053f74c70>"
            ]
          },
          "metadata": {},
          "execution_count": 43
        },
        {
          "output_type": "display_data",
          "data": {
            "text/plain": [
              "<Figure size 640x480 with 1 Axes>"
            ],
            "image/png": "[encoded data removed]"
          },
          "metadata": {}
        }
      ]
    },
    {
      "cell_type": "code",
      "source": [
        "# Predict anomalies/outliers in the training dataset\n",
        "prediction = autoencoder.predict(X_test)\n",
        "\n",
        "# Get the mean absolute error between actual and reconstruction/prediction\n",
        "prediction_loss = keras.losses.mae(prediction, X_test)\n",
        "\n",
        "# Check the prediction loss threshold for 2% of outliers\n",
        "loss_threshold = np.percentile(prediction_loss, 98)\n",
        "print(f'The prediction loss threshold for 2% of outliers is {loss_threshold:.2f}')\n",
        "\n",
        "# Visualize the threshold\n",
        "sns.histplot(prediction_loss, bins=30, alpha=0.8)\n",
        "plt.axvline(x=loss_threshold, color='orange')\n"
      ],
      "metadata": {
        "colab": {
          "base_uri": "https://localhost:8080/",
          "height": 482
        },
        "id": "Lk9krKIa4ZMw",
        "outputId": "1b6a87c3-ea13-44c4-9f5d-169f697f6fcd"
      },
      "execution_count": null,
      "outputs": [
        {
          "output_type": "stream",
          "name": "stdout",
          "text": [
            "625/625 [==============================] - 2s 3ms/step\n",
            "The prediction loss threshold for 2% of outliers is 3.52\n"
          ]
        },
        {
          "output_type": "execute_result",
          "data": {
            "text/plain": [
              "<matplotlib.lines.Line2D at 0x7a0058d600a0>"
            ]
          },
          "metadata": {},
          "execution_count": 50
        },
        {
          "output_type": "display_data",
          "data": {
            "text/plain": [
              "<Figure size 640x480 with 1 Axes>"
            ],
            "image/png": "[encoded data removed]"
          },
          "metadata": {}
        }
      ]
    },
    {
      "cell_type": "code",
      "source": [
        "# Check the model performance at 2% threshold\n",
        "threshold_prediction = [0 if i < loss_threshold else 1 for i in prediction_loss]\n",
        "\n",
        "# # Check the prediction performance\n",
        "print(classification_report(y_test, threshold_prediction))\n"
      ],
      "metadata": {
        "colab": {
          "base_uri": "https://localhost:8080/"
        },
        "id": "EDIGZK6x4b6R",
        "outputId": "8c1e7408-7100-40e7-8224-1485e55f65dc"
      },
      "execution_count": null,
      "outputs": [
        {
          "output_type": "stream",
          "name": "stdout",
          "text": [
            "              precision    recall  f1-score   support\n",
            "\n",
            "           0       0.99      0.98      0.98     19803\n",
            "           1       0.00      0.01      0.00       197\n",
            "\n",
            "    accuracy                           0.97     20000\n",
            "   macro avg       0.50      0.49      0.49     20000\n",
            "weighted avg       0.98      0.97      0.98     20000\n",
            "\n"
          ]
        }
      ]
    },
    {
      "cell_type": "code",
      "source": [],
      "metadata": {
        "id": "tOuQ2pSS4vSN"
      },
      "execution_count": null,
      "outputs": []
    }
  ]
}