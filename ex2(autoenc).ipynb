{
  "cells": [
    {
      "cell_type": "code",
      "execution_count": null,
      "metadata": {
        "id": "lJn_Ee3m61GU"
      },
      "outputs": [],
      "source": [
        "from sklearn.datasets import make_classification"
      ]
    },
    {
      "cell_type": "code",
      "execution_count": null,
      "metadata": {
        "id": "tgxmL5RR7McD"
      },
      "outputs": [],
      "source": [
        "import pandas as pd\n",
        "import numpy as np"
      ]
    },
    {
      "cell_type": "code",
      "execution_count": null,
      "metadata": {
        "id": "1dY4hjR-8K4J"
      },
      "outputs": [],
      "source": [
        "from collections import Counter"
      ]
    },
    {
      "cell_type": "code",
      "execution_count": null,
      "metadata": {
        "id": "NEbHNGaP89uW"
      },
      "outputs": [],
      "source": [
        "import matplotlib.pyplot as plt\n",
        "import seaborn as sns"
      ]
    },
    {
      "cell_type": "code",
      "execution_count": null,
      "metadata": {
        "id": "Q0jxRWXE4L6R"
      },
      "outputs": [],
      "source": [
        "X, y = make_classification(n_samples=100000, n_features=32, n_informative=32,n_redundant=0, n_repeated=0, n_classes=2,\n",
        "                           n_clusters_per_class=1,\n",
        "                           weights=[0.995, 0.005],\n",
        "                           class_sep=0.5, random_state=0)\n"
      ]
    },
    {
      "cell_type": "code",
      "execution_count": null,
      "metadata": {
        "id": "WivJNkEKEpyo"
      },
      "outputs": [],
      "source": [
        "from sklearn.model_selection import train_test_split\n",
        "X_train, X_test, y_train, y_test = train_test_split(X, y, test_size=0.2, random_state=42)\n",
        "\n",
        "print('The number of records in the training dataset is', X_train.shape[0])\n",
        "print('The number of records in the test dataset is', X_test.shape[0])\n",
        "print(f\"The training dataset has {sorted(Counter(y_train).items())[0][1]} records for the majority class and {sorted(Counter(y_train).items())[1][1]} records for the minority class.\")\n"
      ]
    },
    {
      "cell_type": "code",
      "execution_count": null,
      "metadata": {
        "colab": {
          "base_uri": "https://localhost:8080/"
        },
        "id": "Yypj-prj4OZ_",
        "outputId": "09e2e696-4ed6-4149-c3ef-9fb4eac91b99"
      },
      "outputs": [],
      "source": [
        "X_train"
      ]
    },
    {
      "cell_type": "code",
      "execution_count": null,
      "metadata": {
        "colab": {
          "base_uri": "https://localhost:8080/"
        },
        "id": "PNLeK3PLIsZm",
        "outputId": "cc40841f-742d-4a4d-bdfa-07dbbb0dd48c"
      },
      "outputs": [],
      "source": [
        "X_train.shape"
      ]
    },
    {
      "cell_type": "code",
      "execution_count": null,
      "metadata": {
        "colab": {
          "base_uri": "https://localhost:8080/"
        },
        "id": "TGdQygHrI8YM",
        "outputId": "e45ac0f9-a55d-4c56-8ade-515f6be94102"
      },
      "outputs": [],
      "source": []
    },
    {
      "cell_type": "code",
      "execution_count": null,
      "metadata": {
        "id": "_rFCy0leHE2Y"
      },
      "outputs": [],
      "source": [
        "import keras\n",
        "from keras.layers import Dense\n",
        "from keras.models import Sequential\n",
        "from sklearn.metrics import classification_report"
      ]
    },
    {
      "cell_type": "code",
      "execution_count": null,
      "metadata": {
        "id": "ROP9BpFY4RQ5"
      },
      "outputs": [],
      "source": [
        "X_train_normal = X_train[np.where(y_train == 0)]\n",
        "\n",
        "input = keras.layers.Input(shape=(32,))\n",
        "\n",
        "encoder = Sequential([\n",
        "  Dense(16, activation='relu'),\n",
        "  Dense(8, activation='relu'),\n",
        "  Dense(4, activation='relu')])(input)\n",
        "\n",
        "decoder = Sequential([\n",
        "      Dense(8, activation=\"relu\"),\n",
        "      Dense(16, activation=\"relu\"),\n",
        "      Dense(32, activation=\"sigmoid\")])(encoder)\n",
        "\n",
        "autoencoder = keras.Model(inputs=input, outputs=decoder)\n"
      ]
    },
    {
      "cell_type": "code",
      "execution_count": null,
      "metadata": {
        "colab": {
          "base_uri": "https://localhost:8080/"
        },
        "id": "WFd4d9NeM6nZ",
        "outputId": "746c594c-cc4a-44ab-c876-20fb51e4acd9"
      },
      "outputs": [],
      "source": [
        "autoencoder.summary()"
      ]
    },
    {
      "cell_type": "code",
      "execution_count": null,
      "metadata": {
        "colab": {
          "base_uri": "https://localhost:8080/"
        },
        "id": "iKMfjNZm4T4h",
        "outputId": "25753316-a804-4ee3-c245-4ac135ae3b3a"
      },
      "outputs": [],
      "source": [
        "autoencoder.compile(optimizer='adam', loss='mae')\n",
        "\n",
        "history = autoencoder.fit(X_train_normal, X_train_normal,\n",
        "          epochs=2,\n",
        "          batch_size=64,\n",
        "          validation_data=(X_test, X_test),\n",
        "          shuffle=True)\n"
      ]
    },
    {
      "cell_type": "code",
      "execution_count": null,
      "metadata": {
        "colab": {
          "base_uri": "https://localhost:8080/",
          "height": 447
        },
        "id": "xsdCMVtc4WDg",
        "outputId": "2f1f1e6e-5063-4335-a212-934d276f2967"
      },
      "outputs": [],
      "source": [
        "plt.plot(history.history[\"loss\"], label=\"Training Loss\")\n",
        "plt.plot(history.history[\"val_loss\"], label=\"Validation Loss\")\n",
        "plt.legend()\n"
      ]
    },
    {
      "cell_type": "code",
      "execution_count": null,
      "metadata": {
        "colab": {
          "base_uri": "https://localhost:8080/",
          "height": 482
        },
        "id": "Lk9krKIa4ZMw",
        "outputId": "1b6a87c3-ea13-44c4-9f5d-169f697f6fcd"
      },
      "outputs": [],
      "source": [
        "prediction = autoencoder.predict(X_test)\n",
        "\n",
        "prediction_loss = keras.losses.mae(prediction, X_test)\n",
        "\n",
        "loss_threshold = np.percentile(prediction_loss, 98)\n",
        "print(f'The prediction loss threshold for 2% of outliers is {loss_threshold:.2f}')\n",
        "\n",
        "sns.histplot(prediction_loss, bins=30, alpha=0.8)\n",
        "plt.axvline(x=loss_threshold, color='orange')\n"
      ]
    },
    {
      "cell_type": "code",
      "execution_count": null,
      "metadata": {
        "colab": {
          "base_uri": "https://localhost:8080/"
        },
        "id": "EDIGZK6x4b6R",
        "outputId": "8c1e7408-7100-40e7-8224-1485e55f65dc"
      },
      "outputs": [],
      "source": [
        "threshold_prediction = [0 if i < loss_threshold else 1 for i in prediction_loss]\n",
        "\n",
        "print(classification_report(y_test, threshold_prediction))\n"
      ]
    },
    {
      "cell_type": "code",
      "execution_count": null,
      "metadata": {
        "id": "tOuQ2pSS4vSN"
      },
      "outputs": [],
      "source": []
    }
  ],
  "metadata": {
    "colab": {
      "provenance": []
    },
    "kernelspec": {
      "display_name": "Python 3",
      "name": "python3"
    },
    "language_info": {
      "codemirror_mode": {
        "name": "ipython",
        "version": 3
      },
      "file_extension": ".py",
      "mimetype": "text/x-python",
      "name": "python",
      "nbconvert_exporter": "python",
      "pygments_lexer": "ipython3",
      "version": "3.12.1"
    }
  },
  "nbformat": 4,
  "nbformat_minor": 0
}
