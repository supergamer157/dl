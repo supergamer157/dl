{
  "cells": [
    {
      "cell_type": "code",
      "execution_count": 1,
      "metadata": {
        "id": "zhXkGnu9Uq0I"
      },
      "outputs": [],
      "source": [
        "import numpy as np\n",
        "import pandas as pd\n",
        "import matplotlib.pyplot as plt\n",
        "from tensorflow.keras.models import Sequential\n",
        "from tensorflow.keras.layers import LSTM, Dense\n",
        "from sklearn.preprocessing import MinMaxScaler"
      ]
    },
    {
      "cell_type": "code",
      "execution_count": null,
      "metadata": {
        "colab": {
          "base_uri": "https://localhost:8080/",
          "height": 472
        },
        "id": "S6mgrWJaUsf9",
        "outputId": "34ad3f5a-5a08-4b02-cb41-38ba6e6af15b"
      },
      "outputs": [],
      "source": [
        "t = np.linspace(0, 100, 1000)\n",
        "data = np.sin(t)\n",
        "plt.plot(t, data)\n",
        "plt.xlabel('Time')\n",
        "plt.ylabel('Value')\n",
        "plt.title('Sine Wave')\n",
        "plt.show()"
      ]
    },
    {
      "cell_type": "code",
      "execution_count": 3,
      "metadata": {
        "id": "OxuXNtarUsiE"
      },
      "outputs": [],
      "source": [
        "scaler = MinMaxScaler(feature_range=(0, 1))\n",
        "data_normalized = scaler.fit_transform(data.reshape(-1, 1))\n",
        "def create_sequences(data, sequence_length):\n",
        "    sequences = []\n",
        "    labels = []\n",
        "    for i in range(len(data) - sequence_length):\n",
        "        sequences.append(data[i:i+sequence_length])\n",
        "        labels.append(data[i+sequence_length])\n",
        "    return np.array(sequences), np.array(labels)\n",
        "sequence_length = 50\n",
        "X, y = create_sequences(data_normalized, sequence_length)"
      ]
    },
    {
      "cell_type": "code",
      "execution_count": 4,
      "metadata": {
        "id": "3Nvh-qiqUskc"
      },
      "outputs": [],
      "source": [
        "X = X.reshape((X.shape[0], X.shape[1], 1))\n",
        "train_size = int(len(X) * 0.8)\n",
        "X_train, X_test = X[:train_size], X[train_size:]\n",
        "y_train, y_test = y[:train_size], y[train_size:]\n",
        "model = Sequential()\n",
        "model.add(LSTM(50, return_sequences=True, input_shape=(sequence_length, 1)))\n",
        "model.add(LSTM(50))\n",
        "model.add(Dense(1))"
      ]
    },
    {
      "cell_type": "code",
      "execution_count": 5,
      "metadata": {
        "id": "WK-rdeqyUsms"
      },
      "outputs": [],
      "source": [
        "model.compile(optimizer='adam', loss='mean_squared_error')"
      ]
    },
    {
      "cell_type": "code",
      "execution_count": null,
      "metadata": {
        "colab": {
          "base_uri": "https://localhost:8080/",
          "height": 1899
        },
        "id": "POpf3i12UspN",
        "outputId": "1b983a8e-fc7c-41d3-d64b-bc0231f75f21"
      },
      "outputs": [],
      "source": [
        "model.summary()\n",
        "history = model.fit(X_train, y_train, epochs=20, batch_size=32, validation_data=(X_test, y_test))\n",
        "plt.plot(history.history['loss'])\n",
        "plt.plot(history.history['val_loss'])\n",
        "plt.title('Model loss')\n",
        "plt.ylabel('Loss')\n",
        "plt.xlabel('Epoch')\n",
        "plt.legend(['Train', 'Test'], loc='upper right')\n",
        "plt.show()\n",
        "y_pred = model.predict(X_test)\n",
        "y_pred = scaler.inverse_transform(y_pred)\n",
        "y_test = scaler.inverse_transform(y_test.reshape(-1, 1))\n",
        "plt.plot(range(len(y_test)), y_test, label='Actual')\n",
        "plt.plot(range(len(y_pred)), y_pred, label='Predicted')\n",
        "plt.xlabel('Time')\n",
        "plt.ylabel('Value')\n",
        "plt.title('Time Series Prediction')\n",
        "plt.legend()\n",
        "plt.show()"
      ]
    },
    {
      "cell_type": "code",
      "execution_count": null,
      "metadata": {},
      "outputs": [],
      "source": []
    }
  ],
  "metadata": {
    "colab": {
      "provenance": []
    },
    "kernelspec": {
      "display_name": "Python 3",
      "name": "python3"
    },
    "language_info": {
      "codemirror_mode": {
        "name": "ipython",
        "version": 3
      },
      "file_extension": ".py",
      "mimetype": "text/x-python",
      "name": "python",
      "nbconvert_exporter": "python",
      "pygments_lexer": "ipython3",
      "version": "3.12.1"
    }
  },
  "nbformat": 4,
  "nbformat_minor": 0
}
