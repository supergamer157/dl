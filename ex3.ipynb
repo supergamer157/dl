{
  "nbformat": 4,
  "nbformat_minor": 0,
  "metadata": {
    "colab": {
      "provenance": []
    },
    "kernelspec": {
      "name": "python3",
      "display_name": "Python 3"
    },
    "language_info": {
      "name": "python"
    }
  },
  "cells": [
    {
      "cell_type": "code",
      "execution_count": 1,
      "metadata": {
        "id": "BVLuy0qSymBD"
      },
      "outputs": [],
      "source": [
        "import numpy as np\n",
        "\n",
        "num_users = 10\n",
        "num_movies = 5\n",
        "ratings_data = np.random.randint(0, 2, size=(num_users, num_movies))"
      ]
    },
    {
      "cell_type": "code",
      "source": [
        "def sigmoid(x):\n",
        "    return 1 / (1 + np.exp(-x))\n"
      ],
      "metadata": {
        "id": "X_SxK8xmywDI"
      },
      "execution_count": 2,
      "outputs": []
    },
    {
      "cell_type": "code",
      "source": [
        "num_hidden_units = 3\n",
        "weights = np.random.normal(0, 0.1, (num_movies, num_hidden_units))\n",
        "visible_bias = np.zeros(num_movies)\n",
        "hidden_bias = np.zeros(num_hidden_units)\n",
        "learning_rate = 0.1\n"
      ],
      "metadata": {
        "id": "guxlN5RfyxTT"
      },
      "execution_count": 3,
      "outputs": []
    },
    {
      "cell_type": "code",
      "source": [
        "num_epochs = 1000\n",
        "for epoch in range(num_epochs):\n",
        "    for user_ratings in ratings_data:\n",
        "        hidden_probabilities = sigmoid(np.dot(user_ratings, weights) + hidden_bias)\n",
        "        positive_associations = np.outer(user_ratings, hidden_probabilities)\n",
        "        visible_probabilities = sigmoid(np.dot(hidden_probabilities, weights.T) + visible_bias)\n",
        "        hidden_probabilities_recon = sigmoid(np.dot(visible_probabilities, weights) +  hidden_bias)\n",
        "        negative_associations = np.outer(visible_probabilities, hidden_probabilities_recon)\n",
        "        weights += learning_rate * (positive_associations - negative_associations)\n",
        "        visible_bias += learning_rate * (user_ratings - visible_probabilities)\n",
        "        hidden_bias += learning_rate * (hidden_probabilities -  hidden_probabilities_recon)\n"
      ],
      "metadata": {
        "id": "eYgspiBiyz2P"
      },
      "execution_count": 4,
      "outputs": []
    },
    {
      "cell_type": "code",
      "source": [
        "user_id = 5\n",
        "user_ratings = ratings_data[user_id]\n",
        "hidden_probabilities = sigmoid(np.dot(user_ratings, weights) + hidden_bias)\n",
        "visible_probabilities = sigmoid(np.dot(hidden_probabilities, weights.T) + visible_bias)\n",
        "predicted_ratings = visible_probabilities\n",
        "print(\"Predicted ratings for user\", user_id, \":\", predicted_ratings)\n"
      ],
      "metadata": {
        "id": "aYSCMxTjy2Vx"
      },
      "execution_count": 5,
      "outputs": []
    },
    {
      "cell_type": "code",
      "source": [],
      "metadata": {
        "id": "Ug3uQtwOy8Aw"
      },
      "execution_count": null,
      "outputs": []
    }
  ]
}